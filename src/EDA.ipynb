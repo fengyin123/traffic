{
 "cells": [
  {
   "cell_type": "code",
   "execution_count": 1,
   "metadata": {
    "collapsed": true
   },
   "outputs": [],
   "source": [
    "import pandas as pd\n",
    "import numpy as np\n",
    "import matplotlib.pylab as plt\n",
    "plt.figure(figsize=(15,18))\n",
    "import os\n",
    "import sys\n",
    "\n",
    "import seaborn as sns\n",
    "%matplotlib inline\n",
    "predict_dir_path = '/home/houruijie/traffic/traffic/data/predict_data/'\n",
    "train_dir_path = '/home/houruijie/traffic/traffic/data/train/'"
   ]
  },
  {
   "cell_type": "code",
   "execution_count": 2,
   "metadata": {
    "scrolled": true
   },
   "outputs": [
    {
     "name": "stdout",
     "output_type": "stream",
     "text": [
      "\u001b[0m\u001b[01;34mpredict_data\u001b[0m/  \u001b[01;34mtrain\u001b[0m/\r\n"
     ]
    }
   ],
   "source": [
    "ls /home/houruijie/traffic/traffic/data"
   ]
  },
  {
   "cell_type": "markdown",
   "metadata": {},
   "source": [
    "## 0.1 拼接货量表、司机电话日志、司机量表"
   ]
  },
  {
   "cell_type": "code",
   "execution_count": 3,
   "metadata": {
    "collapsed": true
   },
   "outputs": [],
   "source": [
    "def concat_goods_counts():\n",
    "    #将读取的第一个CSV文件写入合并后的文件保存\n",
    "    file_list = os.listdir(train_dir_path + '货量表/')\n",
    "    df = pd.read_csv(train_dir_path+ '货量表/' + file_list[0]) \n",
    "    df.to_csv(train_dir_path + 'goods_counts.csv',index=False)\n",
    "    for i in range(1,len(file_list)):\n",
    "        df = pd.read_csv(train_dir_path + '货量表/' + file_list[i])\n",
    "        df.to_csv(train_dir_path + 'goods_counts.csv',index=False, header=False, mode='a+')\n",
    "concat_goods_counts()\n",
    "\n",
    "def concat_call_logs():\n",
    "    #将读取的第一个CSV文件写入合并后的文件保存\n",
    "    file_list = os.listdir(train_dir_path + '司机电话日志/')\n",
    "    df = pd.read_csv(train_dir_path+ '司机电话日志/' + file_list[0]) \n",
    "    df.to_csv(train_dir_path + 'call_logs.csv',index=False)\n",
    "    for i in range(1,len(file_list)):\n",
    "        df = pd.read_csv(train_dir_path + '司机电话日志/' + file_list[i])\n",
    "        df.to_csv(train_dir_path + 'call_logs.csv',index=False, header=False, mode='a+')\n",
    "concat_call_logs()\n",
    "\n",
    "def concat_driver_counts():\n",
    "    #将读取的第一个CSV文件写入合并后的文件保存\n",
    "    file_list = os.listdir(train_dir_path + '司机量表/')\n",
    "    df = pd.read_csv(train_dir_path+ '司机量表/' + file_list[0]) \n",
    "    df.to_csv(train_dir_path + 'driver_counts.csv',index=False)\n",
    "    for i in range(1,len(file_list)):\n",
    "        df = pd.read_csv(train_dir_path + '司机量表/' + file_list[i])\n",
    "        df.to_csv(train_dir_path + 'driver_counts.csv',index=False, header=False, mode='a+')\n",
    "concat_driver_counts()"
   ]
  },
  {
   "cell_type": "markdown",
   "metadata": {},
   "source": [
    "## 0.2 训练数据"
   ]
  },
  {
   "cell_type": "code",
   "execution_count": 4,
   "metadata": {
    "collapsed": true
   },
   "outputs": [],
   "source": [
    "# 司机画像\n",
    "driver_portrait = pd.read_csv(train_dir_path + '司机画像.csv')\n",
    "# 货主画像\n",
    "shipper_portrait = pd.read_csv(train_dir_path+'货主画像.csv')\n",
    "# 城市公路距离\n",
    "city_way_distance = pd.read_csv(train_dir_path + '城市公路距离记录.csv')\n",
    "# 城市天气记录\n",
    "city_weather_history = pd.read_csv(train_dir_path + '城市天气记录.csv', encoding='gbk')\n",
    "# 货量表\n",
    "goodscounts = pd.read_csv(train_dir_path + 'goods_counts.csv')\n",
    "# 司机电话日志\n",
    "driver_call_logs = pd.read_csv(train_dir_path + 'call_logs.csv' )\n",
    "# 司机量表\n",
    "driver_counts = pd.read_csv(train_dir_path + 'driver_counts.csv')\n"
   ]
  },
  {
   "cell_type": "code",
   "execution_count": 11,
   "metadata": {},
   "outputs": [
    {
     "data": {
      "text/plain": [
       "320200    1000000\n",
       "320500     881267\n",
       "320100     580293\n",
       "320600     516798\n",
       "320800     511661\n",
       "321000     273315\n",
       "321300     243825\n",
       "320700     237169\n",
       "321100     237002\n",
       "320300     228936\n",
       "320400     217324\n",
       "321200     214599\n",
       "320900     209492\n",
       "Name: city, dtype: int64"
      ]
     },
     "execution_count": 11,
     "metadata": {},
     "output_type": "execute_result"
    }
   ],
   "source": [
    "driver_call_logs.city.value_counts()"
   ]
  },
  {
   "cell_type": "markdown",
   "metadata": {},
   "source": [
    "### 1.1 司机画像 数据\n",
    "user_id：司机ID  \n",
    "gender：性别  \n",
    "age：年龄  \n",
    "install_city_short：安装地(市)  \n",
    "truck_age：车龄  \n",
    "auth_success_days：认证通过时间  \n",
    "truck_type：车型  \n",
    "truck_len：车长  \n",
    "truck_no_city_id：车牌号所在市编码  \n",
    "以及一段时长内司机app端行为次数\n",
    "例：\n",
    "call_cnt_3：3天内司机打电话数量\n"
   ]
  },
  {
   "cell_type": "code",
   "execution_count": 16,
   "metadata": {},
   "outputs": [
    {
     "data": {
      "text/plain": [
       "(266212, 29)"
      ]
     },
     "execution_count": 16,
     "metadata": {},
     "output_type": "execute_result"
    }
   ],
   "source": [
    "# driver_portrait[['truck_no_city_id', 'install_city_short']]\n",
    "driver_portrait[driver_portrait.truck_no_city_id == driver_portrait.install_city_short].shape"
   ]
  },
  {
   "cell_type": "code",
   "execution_count": 17,
   "metadata": {},
   "outputs": [
    {
     "data": {
      "text/plain": [
       "(343010, 29)"
      ]
     },
     "execution_count": 17,
     "metadata": {},
     "output_type": "execute_result"
    }
   ],
   "source": [
    "driver_portrait[driver_portrait.truck_no_city_id != driver_portrait.install_city_short].shape"
   ]
  },
  {
   "cell_type": "code",
   "execution_count": 11,
   "metadata": {},
   "outputs": [
    {
     "name": "stdout",
     "output_type": "stream",
     "text": [
      "driver protrait's shape:  (609222, 29)\n"
     ]
    }
   ],
   "source": [
    "print \"driver protrait's shape: \", driver_portrait.shape"
   ]
  },
  {
   "cell_type": "code",
   "execution_count": 20,
   "metadata": {},
   "outputs": [
    {
     "name": "stdout",
     "output_type": "stream",
     "text": [
      "<class 'pandas.core.frame.DataFrame'>\n",
      "RangeIndex: 609222 entries, 0 to 609221\n",
      "Data columns (total 29 columns):\n",
      "user_id                609222 non-null int64\n",
      "gender                 609222 non-null object\n",
      "age                    578902 non-null float64\n",
      "install_city_short     608748 non-null float64\n",
      "auth_success_days      609222 non-null int64\n",
      "truck_age              609222 non-null int64\n",
      "truck_type             609222 non-null object\n",
      "truck_len              609222 non-null float64\n",
      "truck_no_city_id       607262 non-null float64\n",
      "click_cargo_cnt_3      609222 non-null int64\n",
      "click_cargo_cnt_7      609222 non-null int64\n",
      "click_cargo_cnt_14     609222 non-null int64\n",
      "click_cargo_cnt_30     609222 non-null int64\n",
      "cargo_search_cnt_3     609222 non-null int64\n",
      "cargo_search_cnt_7     609222 non-null int64\n",
      "cargo_search_cnt_14    609222 non-null int64\n",
      "cargo_search_cnt_30    609222 non-null int64\n",
      "scan_cargo_cnt_3       609222 non-null int64\n",
      "scan_cargo_cnt_7       609222 non-null int64\n",
      "scan_cargo_cnt_14      609222 non-null int64\n",
      "scan_cargo_cnt_30      609222 non-null int64\n",
      "call_cargo_cnt_3       609222 non-null int64\n",
      "call_cargo_cnt_7       609222 non-null int64\n",
      "call_cargo_cnt_14      609222 non-null int64\n",
      "call_cargo_cnt_30      609222 non-null int64\n",
      "call_cnt_3             609222 non-null int64\n",
      "call_cnt_7             609222 non-null int64\n",
      "call_cnt_14            609222 non-null int64\n",
      "call_cnt_30            609222 non-null int64\n",
      "dtypes: float64(4), int64(23), object(2)\n",
      "memory usage: 134.8+ MB\n"
     ]
    }
   ],
   "source": [
    "driver_portrait.info()"
   ]
  },
  {
   "cell_type": "code",
   "execution_count": 12,
   "metadata": {},
   "outputs": [
    {
     "data": {
      "text/html": [
       "<div>\n",
       "<style>\n",
       "    .dataframe thead tr:only-child th {\n",
       "        text-align: right;\n",
       "    }\n",
       "\n",
       "    .dataframe thead th {\n",
       "        text-align: left;\n",
       "    }\n",
       "\n",
       "    .dataframe tbody tr th {\n",
       "        vertical-align: top;\n",
       "    }\n",
       "</style>\n",
       "<table border=\"1\" class=\"dataframe\">\n",
       "  <thead>\n",
       "    <tr style=\"text-align: right;\">\n",
       "      <th></th>\n",
       "      <th>user_id</th>\n",
       "      <th>gender</th>\n",
       "      <th>age</th>\n",
       "      <th>install_city_short</th>\n",
       "      <th>auth_success_days</th>\n",
       "      <th>truck_age</th>\n",
       "      <th>truck_type</th>\n",
       "      <th>truck_len</th>\n",
       "      <th>truck_no_city_id</th>\n",
       "      <th>click_cargo_cnt_3</th>\n",
       "      <th>...</th>\n",
       "      <th>scan_cargo_cnt_14</th>\n",
       "      <th>scan_cargo_cnt_30</th>\n",
       "      <th>call_cargo_cnt_3</th>\n",
       "      <th>call_cargo_cnt_7</th>\n",
       "      <th>call_cargo_cnt_14</th>\n",
       "      <th>call_cargo_cnt_30</th>\n",
       "      <th>call_cnt_3</th>\n",
       "      <th>call_cnt_7</th>\n",
       "      <th>call_cnt_14</th>\n",
       "      <th>call_cnt_30</th>\n",
       "    </tr>\n",
       "  </thead>\n",
       "  <tbody>\n",
       "    <tr>\n",
       "      <th>0</th>\n",
       "      <td>96436390464285200</td>\n",
       "      <td>男</td>\n",
       "      <td>42.0</td>\n",
       "      <td>330600.0</td>\n",
       "      <td>642</td>\n",
       "      <td>8</td>\n",
       "      <td>平板</td>\n",
       "      <td>6.8</td>\n",
       "      <td>330600.0</td>\n",
       "      <td>12</td>\n",
       "      <td>...</td>\n",
       "      <td>595</td>\n",
       "      <td>1659</td>\n",
       "      <td>0</td>\n",
       "      <td>1</td>\n",
       "      <td>3</td>\n",
       "      <td>9</td>\n",
       "      <td>0</td>\n",
       "      <td>1</td>\n",
       "      <td>5</td>\n",
       "      <td>13</td>\n",
       "    </tr>\n",
       "    <tr>\n",
       "      <th>1</th>\n",
       "      <td>96436390991015697</td>\n",
       "      <td>男</td>\n",
       "      <td>47.0</td>\n",
       "      <td>370300.0</td>\n",
       "      <td>534</td>\n",
       "      <td>3</td>\n",
       "      <td>平板</td>\n",
       "      <td>4.2</td>\n",
       "      <td>370100.0</td>\n",
       "      <td>15</td>\n",
       "      <td>...</td>\n",
       "      <td>5397</td>\n",
       "      <td>10616</td>\n",
       "      <td>0</td>\n",
       "      <td>8</td>\n",
       "      <td>23</td>\n",
       "      <td>42</td>\n",
       "      <td>0</td>\n",
       "      <td>8</td>\n",
       "      <td>26</td>\n",
       "      <td>48</td>\n",
       "    </tr>\n",
       "    <tr>\n",
       "      <th>2</th>\n",
       "      <td>15099575984499189</td>\n",
       "      <td>男</td>\n",
       "      <td>42.0</td>\n",
       "      <td>420800.0</td>\n",
       "      <td>205</td>\n",
       "      <td>3</td>\n",
       "      <td>平板</td>\n",
       "      <td>13.0</td>\n",
       "      <td>421000.0</td>\n",
       "      <td>0</td>\n",
       "      <td>...</td>\n",
       "      <td>2169</td>\n",
       "      <td>7005</td>\n",
       "      <td>0</td>\n",
       "      <td>0</td>\n",
       "      <td>0</td>\n",
       "      <td>8</td>\n",
       "      <td>0</td>\n",
       "      <td>0</td>\n",
       "      <td>0</td>\n",
       "      <td>11</td>\n",
       "    </tr>\n",
       "    <tr>\n",
       "      <th>3</th>\n",
       "      <td>96380588065137004</td>\n",
       "      <td>男</td>\n",
       "      <td>39.0</td>\n",
       "      <td>320200.0</td>\n",
       "      <td>366</td>\n",
       "      <td>1</td>\n",
       "      <td>高栏</td>\n",
       "      <td>9.6</td>\n",
       "      <td>130400.0</td>\n",
       "      <td>0</td>\n",
       "      <td>...</td>\n",
       "      <td>1080</td>\n",
       "      <td>2282</td>\n",
       "      <td>1</td>\n",
       "      <td>1</td>\n",
       "      <td>6</td>\n",
       "      <td>35</td>\n",
       "      <td>1</td>\n",
       "      <td>1</td>\n",
       "      <td>10</td>\n",
       "      <td>45</td>\n",
       "    </tr>\n",
       "    <tr>\n",
       "      <th>4</th>\n",
       "      <td>96436391885931594</td>\n",
       "      <td>男</td>\n",
       "      <td>47.0</td>\n",
       "      <td>420100.0</td>\n",
       "      <td>261</td>\n",
       "      <td>1</td>\n",
       "      <td>高栏</td>\n",
       "      <td>13.0</td>\n",
       "      <td>411400.0</td>\n",
       "      <td>52</td>\n",
       "      <td>...</td>\n",
       "      <td>3170</td>\n",
       "      <td>5502</td>\n",
       "      <td>5</td>\n",
       "      <td>5</td>\n",
       "      <td>5</td>\n",
       "      <td>6</td>\n",
       "      <td>8</td>\n",
       "      <td>8</td>\n",
       "      <td>8</td>\n",
       "      <td>9</td>\n",
       "    </tr>\n",
       "  </tbody>\n",
       "</table>\n",
       "<p>5 rows × 29 columns</p>\n",
       "</div>"
      ],
      "text/plain": [
       "             user_id gender   age  install_city_short  auth_success_days  \\\n",
       "0  96436390464285200      男  42.0            330600.0                642   \n",
       "1  96436390991015697      男  47.0            370300.0                534   \n",
       "2  15099575984499189      男  42.0            420800.0                205   \n",
       "3  96380588065137004      男  39.0            320200.0                366   \n",
       "4  96436391885931594      男  47.0            420100.0                261   \n",
       "\n",
       "   truck_age truck_type  truck_len  truck_no_city_id  click_cargo_cnt_3  \\\n",
       "0          8         平板        6.8          330600.0                 12   \n",
       "1          3         平板        4.2          370100.0                 15   \n",
       "2          3         平板       13.0          421000.0                  0   \n",
       "3          1         高栏        9.6          130400.0                  0   \n",
       "4          1         高栏       13.0          411400.0                 52   \n",
       "\n",
       "      ...       scan_cargo_cnt_14  scan_cargo_cnt_30  call_cargo_cnt_3  \\\n",
       "0     ...                     595               1659                 0   \n",
       "1     ...                    5397              10616                 0   \n",
       "2     ...                    2169               7005                 0   \n",
       "3     ...                    1080               2282                 1   \n",
       "4     ...                    3170               5502                 5   \n",
       "\n",
       "   call_cargo_cnt_7  call_cargo_cnt_14  call_cargo_cnt_30  call_cnt_3  \\\n",
       "0                 1                  3                  9           0   \n",
       "1                 8                 23                 42           0   \n",
       "2                 0                  0                  8           0   \n",
       "3                 1                  6                 35           1   \n",
       "4                 5                  5                  6           8   \n",
       "\n",
       "   call_cnt_7  call_cnt_14  call_cnt_30  \n",
       "0           1            5           13  \n",
       "1           8           26           48  \n",
       "2           0            0           11  \n",
       "3           1           10           45  \n",
       "4           8            8            9  \n",
       "\n",
       "[5 rows x 29 columns]"
      ]
     },
     "execution_count": 12,
     "metadata": {},
     "output_type": "execute_result"
    }
   ],
   "source": [
    "driver_portrait.head(5)"
   ]
  },
  {
   "cell_type": "code",
   "execution_count": 13,
   "metadata": {},
   "outputs": [
    {
     "data": {
      "text/html": [
       "<div>\n",
       "<style>\n",
       "    .dataframe thead tr:only-child th {\n",
       "        text-align: right;\n",
       "    }\n",
       "\n",
       "    .dataframe thead th {\n",
       "        text-align: left;\n",
       "    }\n",
       "\n",
       "    .dataframe tbody tr th {\n",
       "        vertical-align: top;\n",
       "    }\n",
       "</style>\n",
       "<table border=\"1\" class=\"dataframe\">\n",
       "  <thead>\n",
       "    <tr style=\"text-align: right;\">\n",
       "      <th></th>\n",
       "      <th>user_id</th>\n",
       "      <th>age</th>\n",
       "      <th>install_city_short</th>\n",
       "      <th>auth_success_days</th>\n",
       "      <th>truck_age</th>\n",
       "      <th>truck_len</th>\n",
       "      <th>truck_no_city_id</th>\n",
       "      <th>click_cargo_cnt_3</th>\n",
       "      <th>click_cargo_cnt_7</th>\n",
       "      <th>click_cargo_cnt_14</th>\n",
       "      <th>...</th>\n",
       "      <th>scan_cargo_cnt_14</th>\n",
       "      <th>scan_cargo_cnt_30</th>\n",
       "      <th>call_cargo_cnt_3</th>\n",
       "      <th>call_cargo_cnt_7</th>\n",
       "      <th>call_cargo_cnt_14</th>\n",
       "      <th>call_cargo_cnt_30</th>\n",
       "      <th>call_cnt_3</th>\n",
       "      <th>call_cnt_7</th>\n",
       "      <th>call_cnt_14</th>\n",
       "      <th>call_cnt_30</th>\n",
       "    </tr>\n",
       "  </thead>\n",
       "  <tbody>\n",
       "    <tr>\n",
       "      <th>count</th>\n",
       "      <td>6.092220e+05</td>\n",
       "      <td>578902.000000</td>\n",
       "      <td>608748.000000</td>\n",
       "      <td>609222.000000</td>\n",
       "      <td>609222.000000</td>\n",
       "      <td>6.092220e+05</td>\n",
       "      <td>607262.000000</td>\n",
       "      <td>609222.000000</td>\n",
       "      <td>609222.000000</td>\n",
       "      <td>609222.000000</td>\n",
       "      <td>...</td>\n",
       "      <td>609222.000000</td>\n",
       "      <td>609222.000000</td>\n",
       "      <td>609222.000000</td>\n",
       "      <td>609222.000000</td>\n",
       "      <td>609222.000000</td>\n",
       "      <td>609222.000000</td>\n",
       "      <td>609222.000000</td>\n",
       "      <td>609222.000000</td>\n",
       "      <td>609222.000000</td>\n",
       "      <td>609222.000000</td>\n",
       "    </tr>\n",
       "    <tr>\n",
       "      <th>mean</th>\n",
       "      <td>1.818277e+17</td>\n",
       "      <td>38.872013</td>\n",
       "      <td>346778.019890</td>\n",
       "      <td>378.248666</td>\n",
       "      <td>3.550138</td>\n",
       "      <td>7.180363e+01</td>\n",
       "      <td>331954.045898</td>\n",
       "      <td>28.525639</td>\n",
       "      <td>62.778884</td>\n",
       "      <td>126.921531</td>\n",
       "      <td>...</td>\n",
       "      <td>2907.487801</td>\n",
       "      <td>6135.409522</td>\n",
       "      <td>5.818273</td>\n",
       "      <td>12.650581</td>\n",
       "      <td>25.554607</td>\n",
       "      <td>54.630184</td>\n",
       "      <td>8.911983</td>\n",
       "      <td>19.274281</td>\n",
       "      <td>39.018891</td>\n",
       "      <td>83.186466</td>\n",
       "    </tr>\n",
       "    <tr>\n",
       "      <th>std</th>\n",
       "      <td>2.018977e+17</td>\n",
       "      <td>7.557993</td>\n",
       "      <td>95435.907235</td>\n",
       "      <td>209.764389</td>\n",
       "      <td>2.751602</td>\n",
       "      <td>3.319303e+04</td>\n",
       "      <td>96002.539768</td>\n",
       "      <td>56.627347</td>\n",
       "      <td>110.863918</td>\n",
       "      <td>209.702960</td>\n",
       "      <td>...</td>\n",
       "      <td>3478.383966</td>\n",
       "      <td>6924.449906</td>\n",
       "      <td>10.159952</td>\n",
       "      <td>18.278484</td>\n",
       "      <td>32.826927</td>\n",
       "      <td>63.249153</td>\n",
       "      <td>17.298373</td>\n",
       "      <td>30.471889</td>\n",
       "      <td>54.454258</td>\n",
       "      <td>103.995989</td>\n",
       "    </tr>\n",
       "    <tr>\n",
       "      <th>min</th>\n",
       "      <td>3.700000e+01</td>\n",
       "      <td>2.000000</td>\n",
       "      <td>110100.000000</td>\n",
       "      <td>0.000000</td>\n",
       "      <td>-1.000000</td>\n",
       "      <td>0.000000e+00</td>\n",
       "      <td>110100.000000</td>\n",
       "      <td>0.000000</td>\n",
       "      <td>0.000000</td>\n",
       "      <td>0.000000</td>\n",
       "      <td>...</td>\n",
       "      <td>0.000000</td>\n",
       "      <td>0.000000</td>\n",
       "      <td>0.000000</td>\n",
       "      <td>0.000000</td>\n",
       "      <td>0.000000</td>\n",
       "      <td>6.000000</td>\n",
       "      <td>0.000000</td>\n",
       "      <td>0.000000</td>\n",
       "      <td>0.000000</td>\n",
       "      <td>6.000000</td>\n",
       "    </tr>\n",
       "    <tr>\n",
       "      <th>25%</th>\n",
       "      <td>9.626819e+16</td>\n",
       "      <td>33.000000</td>\n",
       "      <td>320500.000000</td>\n",
       "      <td>194.000000</td>\n",
       "      <td>1.000000</td>\n",
       "      <td>6.800000e+00</td>\n",
       "      <td>320300.000000</td>\n",
       "      <td>1.000000</td>\n",
       "      <td>5.000000</td>\n",
       "      <td>16.000000</td>\n",
       "      <td>...</td>\n",
       "      <td>685.000000</td>\n",
       "      <td>1685.000000</td>\n",
       "      <td>0.000000</td>\n",
       "      <td>1.000000</td>\n",
       "      <td>5.250000</td>\n",
       "      <td>14.000000</td>\n",
       "      <td>0.000000</td>\n",
       "      <td>2.000000</td>\n",
       "      <td>7.000000</td>\n",
       "      <td>19.000000</td>\n",
       "    </tr>\n",
       "    <tr>\n",
       "      <th>50%</th>\n",
       "      <td>9.643639e+16</td>\n",
       "      <td>39.000000</td>\n",
       "      <td>341200.000000</td>\n",
       "      <td>394.000000</td>\n",
       "      <td>3.000000</td>\n",
       "      <td>9.600000e+00</td>\n",
       "      <td>341300.000000</td>\n",
       "      <td>8.000000</td>\n",
       "      <td>23.000000</td>\n",
       "      <td>53.000000</td>\n",
       "      <td>...</td>\n",
       "      <td>1751.000000</td>\n",
       "      <td>3846.000000</td>\n",
       "      <td>2.000000</td>\n",
       "      <td>6.000000</td>\n",
       "      <td>14.000000</td>\n",
       "      <td>32.000000</td>\n",
       "      <td>2.000000</td>\n",
       "      <td>8.000000</td>\n",
       "      <td>19.000000</td>\n",
       "      <td>46.000000</td>\n",
       "    </tr>\n",
       "    <tr>\n",
       "      <th>75%</th>\n",
       "      <td>9.643639e+16</td>\n",
       "      <td>44.000000</td>\n",
       "      <td>410100.000000</td>\n",
       "      <td>640.000000</td>\n",
       "      <td>5.000000</td>\n",
       "      <td>1.300000e+01</td>\n",
       "      <td>371400.000000</td>\n",
       "      <td>31.000000</td>\n",
       "      <td>72.000000</td>\n",
       "      <td>149.000000</td>\n",
       "      <td>...</td>\n",
       "      <td>3843.000000</td>\n",
       "      <td>8056.000000</td>\n",
       "      <td>7.000000</td>\n",
       "      <td>17.000000</td>\n",
       "      <td>33.000000</td>\n",
       "      <td>71.000000</td>\n",
       "      <td>10.000000</td>\n",
       "      <td>24.000000</td>\n",
       "      <td>50.000000</td>\n",
       "      <td>106.000000</td>\n",
       "    </tr>\n",
       "    <tr>\n",
       "      <th>max</th>\n",
       "      <td>3.988217e+18</td>\n",
       "      <td>90.000000</td>\n",
       "      <td>659004.000000</td>\n",
       "      <td>642.000000</td>\n",
       "      <td>18.000000</td>\n",
       "      <td>2.221339e+07</td>\n",
       "      <td>659001.000000</td>\n",
       "      <td>3710.000000</td>\n",
       "      <td>4151.000000</td>\n",
       "      <td>8728.000000</td>\n",
       "      <td>...</td>\n",
       "      <td>77946.000000</td>\n",
       "      <td>154361.000000</td>\n",
       "      <td>536.000000</td>\n",
       "      <td>950.000000</td>\n",
       "      <td>1743.000000</td>\n",
       "      <td>2946.000000</td>\n",
       "      <td>619.000000</td>\n",
       "      <td>1070.000000</td>\n",
       "      <td>2032.000000</td>\n",
       "      <td>3505.000000</td>\n",
       "    </tr>\n",
       "  </tbody>\n",
       "</table>\n",
       "<p>8 rows × 27 columns</p>\n",
       "</div>"
      ],
      "text/plain": [
       "            user_id            age  install_city_short  auth_success_days  \\\n",
       "count  6.092220e+05  578902.000000       608748.000000      609222.000000   \n",
       "mean   1.818277e+17      38.872013       346778.019890         378.248666   \n",
       "std    2.018977e+17       7.557993        95435.907235         209.764389   \n",
       "min    3.700000e+01       2.000000       110100.000000           0.000000   \n",
       "25%    9.626819e+16      33.000000       320500.000000         194.000000   \n",
       "50%    9.643639e+16      39.000000       341200.000000         394.000000   \n",
       "75%    9.643639e+16      44.000000       410100.000000         640.000000   \n",
       "max    3.988217e+18      90.000000       659004.000000         642.000000   \n",
       "\n",
       "           truck_age     truck_len  truck_no_city_id  click_cargo_cnt_3  \\\n",
       "count  609222.000000  6.092220e+05     607262.000000      609222.000000   \n",
       "mean        3.550138  7.180363e+01     331954.045898          28.525639   \n",
       "std         2.751602  3.319303e+04      96002.539768          56.627347   \n",
       "min        -1.000000  0.000000e+00     110100.000000           0.000000   \n",
       "25%         1.000000  6.800000e+00     320300.000000           1.000000   \n",
       "50%         3.000000  9.600000e+00     341300.000000           8.000000   \n",
       "75%         5.000000  1.300000e+01     371400.000000          31.000000   \n",
       "max        18.000000  2.221339e+07     659001.000000        3710.000000   \n",
       "\n",
       "       click_cargo_cnt_7  click_cargo_cnt_14      ...        \\\n",
       "count      609222.000000       609222.000000      ...         \n",
       "mean           62.778884          126.921531      ...         \n",
       "std           110.863918          209.702960      ...         \n",
       "min             0.000000            0.000000      ...         \n",
       "25%             5.000000           16.000000      ...         \n",
       "50%            23.000000           53.000000      ...         \n",
       "75%            72.000000          149.000000      ...         \n",
       "max          4151.000000         8728.000000      ...         \n",
       "\n",
       "       scan_cargo_cnt_14  scan_cargo_cnt_30  call_cargo_cnt_3  \\\n",
       "count      609222.000000      609222.000000     609222.000000   \n",
       "mean         2907.487801        6135.409522          5.818273   \n",
       "std          3478.383966        6924.449906         10.159952   \n",
       "min             0.000000           0.000000          0.000000   \n",
       "25%           685.000000        1685.000000          0.000000   \n",
       "50%          1751.000000        3846.000000          2.000000   \n",
       "75%          3843.000000        8056.000000          7.000000   \n",
       "max         77946.000000      154361.000000        536.000000   \n",
       "\n",
       "       call_cargo_cnt_7  call_cargo_cnt_14  call_cargo_cnt_30     call_cnt_3  \\\n",
       "count     609222.000000      609222.000000      609222.000000  609222.000000   \n",
       "mean          12.650581          25.554607          54.630184       8.911983   \n",
       "std           18.278484          32.826927          63.249153      17.298373   \n",
       "min            0.000000           0.000000           6.000000       0.000000   \n",
       "25%            1.000000           5.250000          14.000000       0.000000   \n",
       "50%            6.000000          14.000000          32.000000       2.000000   \n",
       "75%           17.000000          33.000000          71.000000      10.000000   \n",
       "max          950.000000        1743.000000        2946.000000     619.000000   \n",
       "\n",
       "          call_cnt_7    call_cnt_14    call_cnt_30  \n",
       "count  609222.000000  609222.000000  609222.000000  \n",
       "mean       19.274281      39.018891      83.186466  \n",
       "std        30.471889      54.454258     103.995989  \n",
       "min         0.000000       0.000000       6.000000  \n",
       "25%         2.000000       7.000000      19.000000  \n",
       "50%         8.000000      19.000000      46.000000  \n",
       "75%        24.000000      50.000000     106.000000  \n",
       "max      1070.000000    2032.000000    3505.000000  \n",
       "\n",
       "[8 rows x 27 columns]"
      ]
     },
     "execution_count": 13,
     "metadata": {},
     "output_type": "execute_result"
    }
   ],
   "source": [
    "driver_portrait.describe()"
   ]
  },
  {
   "cell_type": "code",
   "execution_count": 14,
   "metadata": {},
   "outputs": [
    {
     "data": {
      "text/plain": [
       "user_id                     0.726219\n",
       "age                        -0.461992\n",
       "install_city_short          2.015523\n",
       "auth_success_days          -1.313041\n",
       "truck_age                   0.065995\n",
       "truck_len              371579.867829\n",
       "truck_no_city_id            1.461186\n",
       "click_cargo_cnt_3          85.179750\n",
       "click_cargo_cnt_7          47.839355\n",
       "click_cargo_cnt_14         47.783389\n",
       "click_cargo_cnt_30         43.760442\n",
       "cargo_search_cnt_3       1249.121241\n",
       "cargo_search_cnt_7        752.219737\n",
       "cargo_search_cnt_14       989.544695\n",
       "cargo_search_cnt_30       677.963792\n",
       "scan_cargo_cnt_3           23.553835\n",
       "scan_cargo_cnt_7           17.420703\n",
       "scan_cargo_cnt_14          15.965732\n",
       "scan_cargo_cnt_30          15.004535\n",
       "call_cargo_cnt_3           37.678835\n",
       "call_cargo_cnt_7           31.618083\n",
       "call_cargo_cnt_14          31.414390\n",
       "call_cargo_cnt_30          25.357351\n",
       "call_cnt_3                 41.172684\n",
       "call_cnt_7                 28.785715\n",
       "call_cnt_14                27.445729\n",
       "call_cnt_30                24.180182\n",
       "dtype: float64"
      ]
     },
     "execution_count": 14,
     "metadata": {},
     "output_type": "execute_result"
    }
   ],
   "source": [
    "# 偏度\n",
    "driver_portrait.kurt()"
   ]
  },
  {
   "cell_type": "markdown",
   "metadata": {},
   "source": [
    "### 1.2 货主画像\n",
    "shipper_id：货主ID  \n",
    "cargo_msg_cnt_all：发货数量  \n",
    "deal_cnt_all：已定货量  \n",
    "pay_cnt_all：已成交货量  \n",
    "gender：性别  \n",
    "age：年龄  \n",
    "auth_success_days：认证通过时间"
   ]
  },
  {
   "cell_type": "code",
   "execution_count": 16,
   "metadata": {},
   "outputs": [
    {
     "data": {
      "text/plain": [
       "(90310, 7)"
      ]
     },
     "execution_count": 16,
     "metadata": {},
     "output_type": "execute_result"
    }
   ],
   "source": [
    "shipper_portrait.shape"
   ]
  },
  {
   "cell_type": "code",
   "execution_count": 19,
   "metadata": {},
   "outputs": [
    {
     "name": "stdout",
     "output_type": "stream",
     "text": [
      "<class 'pandas.core.frame.DataFrame'>\n",
      "RangeIndex: 90310 entries, 0 to 90309\n",
      "Data columns (total 7 columns):\n",
      "shipper_id           90310 non-null int64\n",
      "cargo_msg_cnt_all    90310 non-null int64\n",
      "deal_cnt_all         90310 non-null int64\n",
      "pay_cnt_all          90310 non-null int64\n",
      "gender               90310 non-null object\n",
      "age                  86853 non-null float64\n",
      "auth_success_days    90310 non-null int64\n",
      "dtypes: float64(1), int64(5), object(1)\n",
      "memory usage: 4.8+ MB\n"
     ]
    }
   ],
   "source": [
    "shipper_portrait.info()"
   ]
  },
  {
   "cell_type": "code",
   "execution_count": 17,
   "metadata": {},
   "outputs": [
    {
     "data": {
      "text/html": [
       "<div>\n",
       "<style>\n",
       "    .dataframe thead tr:only-child th {\n",
       "        text-align: right;\n",
       "    }\n",
       "\n",
       "    .dataframe thead th {\n",
       "        text-align: left;\n",
       "    }\n",
       "\n",
       "    .dataframe tbody tr th {\n",
       "        vertical-align: top;\n",
       "    }\n",
       "</style>\n",
       "<table border=\"1\" class=\"dataframe\">\n",
       "  <thead>\n",
       "    <tr style=\"text-align: right;\">\n",
       "      <th></th>\n",
       "      <th>shipper_id</th>\n",
       "      <th>cargo_msg_cnt_all</th>\n",
       "      <th>deal_cnt_all</th>\n",
       "      <th>pay_cnt_all</th>\n",
       "      <th>gender</th>\n",
       "      <th>age</th>\n",
       "      <th>auth_success_days</th>\n",
       "    </tr>\n",
       "  </thead>\n",
       "  <tbody>\n",
       "    <tr>\n",
       "      <th>0</th>\n",
       "      <td>478</td>\n",
       "      <td>11974</td>\n",
       "      <td>1664</td>\n",
       "      <td>1522</td>\n",
       "      <td>女</td>\n",
       "      <td>48.0</td>\n",
       "      <td>642</td>\n",
       "    </tr>\n",
       "    <tr>\n",
       "      <th>1</th>\n",
       "      <td>14863640208623454</td>\n",
       "      <td>286</td>\n",
       "      <td>3</td>\n",
       "      <td>2</td>\n",
       "      <td>男</td>\n",
       "      <td>28.0</td>\n",
       "      <td>478</td>\n",
       "    </tr>\n",
       "    <tr>\n",
       "      <th>2</th>\n",
       "      <td>15090713935812634</td>\n",
       "      <td>24</td>\n",
       "      <td>3</td>\n",
       "      <td>1</td>\n",
       "      <td>男</td>\n",
       "      <td>41.0</td>\n",
       "      <td>208</td>\n",
       "    </tr>\n",
       "    <tr>\n",
       "      <th>3</th>\n",
       "      <td>15095490963328972</td>\n",
       "      <td>9</td>\n",
       "      <td>1</td>\n",
       "      <td>1</td>\n",
       "      <td>男</td>\n",
       "      <td>32.0</td>\n",
       "      <td>22</td>\n",
       "    </tr>\n",
       "    <tr>\n",
       "      <th>4</th>\n",
       "      <td>15096852391828835</td>\n",
       "      <td>889</td>\n",
       "      <td>228</td>\n",
       "      <td>208</td>\n",
       "      <td>女</td>\n",
       "      <td>30.0</td>\n",
       "      <td>208</td>\n",
       "    </tr>\n",
       "  </tbody>\n",
       "</table>\n",
       "</div>"
      ],
      "text/plain": [
       "          shipper_id  cargo_msg_cnt_all  deal_cnt_all  pay_cnt_all gender  \\\n",
       "0                478              11974          1664         1522      女   \n",
       "1  14863640208623454                286             3            2      男   \n",
       "2  15090713935812634                 24             3            1      男   \n",
       "3  15095490963328972                  9             1            1      男   \n",
       "4  15096852391828835                889           228          208      女   \n",
       "\n",
       "    age  auth_success_days  \n",
       "0  48.0                642  \n",
       "1  28.0                478  \n",
       "2  41.0                208  \n",
       "3  32.0                 22  \n",
       "4  30.0                208  "
      ]
     },
     "execution_count": 17,
     "metadata": {},
     "output_type": "execute_result"
    }
   ],
   "source": [
    "shipper_portrait.head(5)"
   ]
  },
  {
   "cell_type": "code",
   "execution_count": 18,
   "metadata": {},
   "outputs": [
    {
     "data": {
      "text/html": [
       "<div>\n",
       "<style>\n",
       "    .dataframe thead tr:only-child th {\n",
       "        text-align: right;\n",
       "    }\n",
       "\n",
       "    .dataframe thead th {\n",
       "        text-align: left;\n",
       "    }\n",
       "\n",
       "    .dataframe tbody tr th {\n",
       "        vertical-align: top;\n",
       "    }\n",
       "</style>\n",
       "<table border=\"1\" class=\"dataframe\">\n",
       "  <thead>\n",
       "    <tr style=\"text-align: right;\">\n",
       "      <th></th>\n",
       "      <th>shipper_id</th>\n",
       "      <th>cargo_msg_cnt_all</th>\n",
       "      <th>deal_cnt_all</th>\n",
       "      <th>pay_cnt_all</th>\n",
       "      <th>age</th>\n",
       "      <th>auth_success_days</th>\n",
       "    </tr>\n",
       "  </thead>\n",
       "  <tbody>\n",
       "    <tr>\n",
       "      <th>count</th>\n",
       "      <td>9.031000e+04</td>\n",
       "      <td>90310.000000</td>\n",
       "      <td>90310.000000</td>\n",
       "      <td>90310.000000</td>\n",
       "      <td>86853.000000</td>\n",
       "      <td>90310.000000</td>\n",
       "    </tr>\n",
       "    <tr>\n",
       "      <th>mean</th>\n",
       "      <td>2.486366e+17</td>\n",
       "      <td>1809.018702</td>\n",
       "      <td>255.438235</td>\n",
       "      <td>178.086059</td>\n",
       "      <td>38.926796</td>\n",
       "      <td>404.533717</td>\n",
       "    </tr>\n",
       "    <tr>\n",
       "      <th>std</th>\n",
       "      <td>5.704818e+17</td>\n",
       "      <td>3959.725030</td>\n",
       "      <td>514.473580</td>\n",
       "      <td>326.216584</td>\n",
       "      <td>9.027084</td>\n",
       "      <td>213.210206</td>\n",
       "    </tr>\n",
       "    <tr>\n",
       "      <th>min</th>\n",
       "      <td>7.000000e+00</td>\n",
       "      <td>1.000000</td>\n",
       "      <td>0.000000</td>\n",
       "      <td>0.000000</td>\n",
       "      <td>2.000000</td>\n",
       "      <td>0.000000</td>\n",
       "    </tr>\n",
       "    <tr>\n",
       "      <th>25%</th>\n",
       "      <td>9.619873e+16</td>\n",
       "      <td>115.250000</td>\n",
       "      <td>19.000000</td>\n",
       "      <td>14.000000</td>\n",
       "      <td>32.000000</td>\n",
       "      <td>216.000000</td>\n",
       "    </tr>\n",
       "    <tr>\n",
       "      <th>50%</th>\n",
       "      <td>9.643639e+16</td>\n",
       "      <td>478.000000</td>\n",
       "      <td>80.000000</td>\n",
       "      <td>59.000000</td>\n",
       "      <td>39.000000</td>\n",
       "      <td>415.000000</td>\n",
       "    </tr>\n",
       "    <tr>\n",
       "      <th>75%</th>\n",
       "      <td>9.643639e+16</td>\n",
       "      <td>1708.000000</td>\n",
       "      <td>265.000000</td>\n",
       "      <td>193.000000</td>\n",
       "      <td>45.000000</td>\n",
       "      <td>642.000000</td>\n",
       "    </tr>\n",
       "    <tr>\n",
       "      <th>max</th>\n",
       "      <td>3.988217e+18</td>\n",
       "      <td>144368.000000</td>\n",
       "      <td>25671.000000</td>\n",
       "      <td>5696.000000</td>\n",
       "      <td>89.000000</td>\n",
       "      <td>642.000000</td>\n",
       "    </tr>\n",
       "  </tbody>\n",
       "</table>\n",
       "</div>"
      ],
      "text/plain": [
       "         shipper_id  cargo_msg_cnt_all  deal_cnt_all   pay_cnt_all  \\\n",
       "count  9.031000e+04       90310.000000  90310.000000  90310.000000   \n",
       "mean   2.486366e+17        1809.018702    255.438235    178.086059   \n",
       "std    5.704818e+17        3959.725030    514.473580    326.216584   \n",
       "min    7.000000e+00           1.000000      0.000000      0.000000   \n",
       "25%    9.619873e+16         115.250000     19.000000     14.000000   \n",
       "50%    9.643639e+16         478.000000     80.000000     59.000000   \n",
       "75%    9.643639e+16        1708.000000    265.000000    193.000000   \n",
       "max    3.988217e+18      144368.000000  25671.000000   5696.000000   \n",
       "\n",
       "                age  auth_success_days  \n",
       "count  86853.000000       90310.000000  \n",
       "mean      38.926796         404.533717  \n",
       "std        9.027084         213.210206  \n",
       "min        2.000000           0.000000  \n",
       "25%       32.000000         216.000000  \n",
       "50%       39.000000         415.000000  \n",
       "75%       45.000000         642.000000  \n",
       "max       89.000000         642.000000  "
      ]
     },
     "execution_count": 18,
     "metadata": {},
     "output_type": "execute_result"
    }
   ],
   "source": [
    "shipper_portrait.describe()"
   ]
  },
  {
   "cell_type": "code",
   "execution_count": 21,
   "metadata": {},
   "outputs": [
    {
     "data": {
      "text/plain": [
       "shipper_id            34.487616\n",
       "cargo_msg_cnt_all     98.444259\n",
       "deal_cnt_all         112.918402\n",
       "pay_cnt_all           28.882974\n",
       "age                   -0.180999\n",
       "auth_success_days     -1.298626\n",
       "dtype: float64"
      ]
     },
     "execution_count": 21,
     "metadata": {},
     "output_type": "execute_result"
    }
   ],
   "source": [
    "shipper_portrait.kurt()"
   ]
  },
  {
   "cell_type": "markdown",
   "metadata": {},
   "source": [
    "### 1.3 城市公路距离记录\n",
    "记录了不同城市之间的距离  \n",
    "记录了120个start_city到3244个end_city的距离"
   ]
  },
  {
   "cell_type": "code",
   "execution_count": 27,
   "metadata": {},
   "outputs": [
    {
     "data": {
      "text/plain": [
       "(389280, 3)"
      ]
     },
     "execution_count": 27,
     "metadata": {},
     "output_type": "execute_result"
    }
   ],
   "source": [
    "city_way_distance.shape"
   ]
  },
  {
   "cell_type": "code",
   "execution_count": 30,
   "metadata": {
    "scrolled": true
   },
   "outputs": [
    {
     "name": "stdout",
     "output_type": "stream",
     "text": [
      "the numbers of start_city:  (120,)\n",
      "the numbers of end_city:  (3244,)\n"
     ]
    }
   ],
   "source": [
    "print \"the numbers of start_city: \", city_way_distance.start_city_id.unique().shape\n",
    "print \"the numbers of end_city: \", city_way_distance.end_city_id.unique().shape"
   ]
  },
  {
   "cell_type": "code",
   "execution_count": 23,
   "metadata": {
    "scrolled": true
   },
   "outputs": [
    {
     "data": {
      "text/html": [
       "<div>\n",
       "<style>\n",
       "    .dataframe thead tr:only-child th {\n",
       "        text-align: right;\n",
       "    }\n",
       "\n",
       "    .dataframe thead th {\n",
       "        text-align: left;\n",
       "    }\n",
       "\n",
       "    .dataframe tbody tr th {\n",
       "        vertical-align: top;\n",
       "    }\n",
       "</style>\n",
       "<table border=\"1\" class=\"dataframe\">\n",
       "  <thead>\n",
       "    <tr style=\"text-align: right;\">\n",
       "      <th></th>\n",
       "      <th>start_city_id</th>\n",
       "      <th>end_city_id</th>\n",
       "      <th>distance</th>\n",
       "    </tr>\n",
       "  </thead>\n",
       "  <tbody>\n",
       "    <tr>\n",
       "      <th>389275</th>\n",
       "      <td>321324</td>\n",
       "      <td>710100</td>\n",
       "      <td>1102.0</td>\n",
       "    </tr>\n",
       "    <tr>\n",
       "      <th>389276</th>\n",
       "      <td>321324</td>\n",
       "      <td>810000</td>\n",
       "      <td>1295.0</td>\n",
       "    </tr>\n",
       "    <tr>\n",
       "      <th>389277</th>\n",
       "      <td>321324</td>\n",
       "      <td>810100</td>\n",
       "      <td>1295.0</td>\n",
       "    </tr>\n",
       "    <tr>\n",
       "      <th>389278</th>\n",
       "      <td>321324</td>\n",
       "      <td>820000</td>\n",
       "      <td>1337.0</td>\n",
       "    </tr>\n",
       "    <tr>\n",
       "      <th>389279</th>\n",
       "      <td>321324</td>\n",
       "      <td>820100</td>\n",
       "      <td>1337.0</td>\n",
       "    </tr>\n",
       "  </tbody>\n",
       "</table>\n",
       "</div>"
      ],
      "text/plain": [
       "        start_city_id  end_city_id  distance\n",
       "389275         321324       710100    1102.0\n",
       "389276         321324       810000    1295.0\n",
       "389277         321324       810100    1295.0\n",
       "389278         321324       820000    1337.0\n",
       "389279         321324       820100    1337.0"
      ]
     },
     "execution_count": 23,
     "metadata": {},
     "output_type": "execute_result"
    }
   ],
   "source": [
    "city_way_distance.tail(5)"
   ]
  },
  {
   "cell_type": "markdown",
   "metadata": {},
   "source": [
    "### 1.4 城市天气记录\n",
    "name：城市名字  \n",
    "code：城市代号  \n",
    "data：日期  \n",
    "weather：天气情况  \n",
    "temperature：温度  \n",
    "wind：风力"
   ]
  },
  {
   "cell_type": "code",
   "execution_count": 35,
   "metadata": {},
   "outputs": [
    {
     "data": {
      "text/plain": [
       "(9977, 6)"
      ]
     },
     "execution_count": 35,
     "metadata": {},
     "output_type": "execute_result"
    }
   ],
   "source": [
    "city_weather_history.shape"
   ]
  },
  {
   "cell_type": "code",
   "execution_count": 39,
   "metadata": {},
   "outputs": [
    {
     "name": "stdout",
     "output_type": "stream",
     "text": [
      "the number of city:  66\n",
      "the number of data:  151\n"
     ]
    }
   ],
   "source": [
    "print \"the number of city: \", city_weather_history.name.unique().shape[0]\n",
    "print \"the number of data: \", city_weather_history.date.unique().shape[0]\n",
    "print \"记录了66个城市 151天的\""
   ]
  },
  {
   "cell_type": "code",
   "execution_count": 111,
   "metadata": {},
   "outputs": [
    {
     "data": {
      "text/html": [
       "<div>\n",
       "<style>\n",
       "    .dataframe thead tr:only-child th {\n",
       "        text-align: right;\n",
       "    }\n",
       "\n",
       "    .dataframe thead th {\n",
       "        text-align: left;\n",
       "    }\n",
       "\n",
       "    .dataframe tbody tr th {\n",
       "        vertical-align: top;\n",
       "    }\n",
       "</style>\n",
       "<table border=\"1\" class=\"dataframe\">\n",
       "  <thead>\n",
       "    <tr style=\"text-align: right;\">\n",
       "      <th></th>\n",
       "      <th>name</th>\n",
       "      <th>code</th>\n",
       "      <th>date</th>\n",
       "      <th>weather</th>\n",
       "      <th>temperature</th>\n",
       "      <th>wind</th>\n",
       "    </tr>\n",
       "  </thead>\n",
       "  <tbody>\n",
       "    <tr>\n",
       "      <th>0</th>\n",
       "      <td>宝应</td>\n",
       "      <td>321023</td>\n",
       "      <td>2018-01-01</td>\n",
       "      <td>多云/多云</td>\n",
       "      <td>11/3</td>\n",
       "      <td>东风34级/东南风45级</td>\n",
       "    </tr>\n",
       "    <tr>\n",
       "      <th>1</th>\n",
       "      <td>宝应</td>\n",
       "      <td>321023</td>\n",
       "      <td>2018-01-02</td>\n",
       "      <td>多云/多云</td>\n",
       "      <td>11/3</td>\n",
       "      <td>东风34级/东南风45级</td>\n",
       "    </tr>\n",
       "    <tr>\n",
       "      <th>2</th>\n",
       "      <td>宝应</td>\n",
       "      <td>321023</td>\n",
       "      <td>2018-01-03</td>\n",
       "      <td>阴/小雨</td>\n",
       "      <td>10/3</td>\n",
       "      <td>东风34级/东北风45级</td>\n",
       "    </tr>\n",
       "    <tr>\n",
       "      <th>3</th>\n",
       "      <td>宝应</td>\n",
       "      <td>321023</td>\n",
       "      <td>2018-01-04</td>\n",
       "      <td>小雨/中雪</td>\n",
       "      <td>4/0</td>\n",
       "      <td>东北风45级/东北风45级</td>\n",
       "    </tr>\n",
       "    <tr>\n",
       "      <th>4</th>\n",
       "      <td>宝应</td>\n",
       "      <td>321023</td>\n",
       "      <td>2018-01-05</td>\n",
       "      <td>大雪/小雪</td>\n",
       "      <td>1/5</td>\n",
       "      <td>东北风45级/东北风45级</td>\n",
       "    </tr>\n",
       "  </tbody>\n",
       "</table>\n",
       "</div>"
      ],
      "text/plain": [
       "  name    code        date weather temperature           wind\n",
       "0   宝应  321023  2018-01-01   多云/多云        11/3   东风34级/东南风45级\n",
       "1   宝应  321023  2018-01-02   多云/多云        11/3   东风34级/东南风45级\n",
       "2   宝应  321023  2018-01-03    阴/小雨        10/3   东风34级/东北风45级\n",
       "3   宝应  321023  2018-01-04   小雨/中雪         4/0  东北风45级/东北风45级\n",
       "4   宝应  321023  2018-01-05   大雪/小雪         1/5  东北风45级/东北风45级"
      ]
     },
     "execution_count": 111,
     "metadata": {},
     "output_type": "execute_result"
    }
   ],
   "source": [
    "city_weather_history.head(5)"
   ]
  },
  {
   "cell_type": "code",
   "execution_count": 40,
   "metadata": {},
   "outputs": [
    {
     "name": "stdout",
     "output_type": "stream",
     "text": [
      "<class 'pandas.core.frame.DataFrame'>\n",
      "RangeIndex: 9977 entries, 0 to 9976\n",
      "Data columns (total 6 columns):\n",
      "name           9977 non-null object\n",
      "code           9977 non-null int64\n",
      "date           9977 non-null object\n",
      "weather        9977 non-null object\n",
      "temperature    9977 non-null object\n",
      "wind           9977 non-null object\n",
      "dtypes: int64(1), object(5)\n",
      "memory usage: 467.7+ KB\n"
     ]
    }
   ],
   "source": [
    "city_weather_history.info()"
   ]
  },
  {
   "cell_type": "markdown",
   "metadata": {},
   "source": [
    "### 1.5货量表"
   ]
  },
  {
   "cell_type": "code",
   "execution_count": 42,
   "metadata": {
    "scrolled": true
   },
   "outputs": [
    {
     "data": {
      "text/html": [
       "<div>\n",
       "<style>\n",
       "    .dataframe thead tr:only-child th {\n",
       "        text-align: right;\n",
       "    }\n",
       "\n",
       "    .dataframe thead th {\n",
       "        text-align: left;\n",
       "    }\n",
       "\n",
       "    .dataframe tbody tr th {\n",
       "        vertical-align: top;\n",
       "    }\n",
       "</style>\n",
       "<table border=\"1\" class=\"dataframe\">\n",
       "  <thead>\n",
       "    <tr style=\"text-align: right;\">\n",
       "      <th></th>\n",
       "      <th>city</th>\n",
       "      <th>day</th>\n",
       "      <th>count</th>\n",
       "    </tr>\n",
       "  </thead>\n",
       "  <tbody>\n",
       "    <tr>\n",
       "      <th>0</th>\n",
       "      <td>320700</td>\n",
       "      <td>20180101</td>\n",
       "      <td>196</td>\n",
       "    </tr>\n",
       "    <tr>\n",
       "      <th>1</th>\n",
       "      <td>320700</td>\n",
       "      <td>20180102</td>\n",
       "      <td>411</td>\n",
       "    </tr>\n",
       "    <tr>\n",
       "      <th>2</th>\n",
       "      <td>320700</td>\n",
       "      <td>20180103</td>\n",
       "      <td>470</td>\n",
       "    </tr>\n",
       "    <tr>\n",
       "      <th>3</th>\n",
       "      <td>320700</td>\n",
       "      <td>20180104</td>\n",
       "      <td>345</td>\n",
       "    </tr>\n",
       "    <tr>\n",
       "      <th>4</th>\n",
       "      <td>320700</td>\n",
       "      <td>20180105</td>\n",
       "      <td>404</td>\n",
       "    </tr>\n",
       "  </tbody>\n",
       "</table>\n",
       "</div>"
      ],
      "text/plain": [
       "     city       day  count\n",
       "0  320700  20180101    196\n",
       "1  320700  20180102    411\n",
       "2  320700  20180103    470\n",
       "3  320700  20180104    345\n",
       "4  320700  20180105    404"
      ]
     },
     "execution_count": 42,
     "metadata": {},
     "output_type": "execute_result"
    }
   ],
   "source": [
    "goodscounts.head(5)"
   ]
  },
  {
   "cell_type": "code",
   "execution_count": 45,
   "metadata": {},
   "outputs": [
    {
     "name": "stdout",
     "output_type": "stream",
     "text": [
      "the number of city:  (13,)\n",
      "the number of day:  (150,)\n"
     ]
    }
   ],
   "source": [
    "print \"the number of city: \", goodscounts.city.unique().shape\n",
    "print \"the number of day: \", goodscounts.day.unique().shape"
   ]
  },
  {
   "cell_type": "code",
   "execution_count": 47,
   "metadata": {},
   "outputs": [
    {
     "data": {
      "text/plain": [
       "<matplotlib.axes._subplots.AxesSubplot at 0x7fc3d1c0c350>"
      ]
     },
     "execution_count": 47,
     "metadata": {},
     "output_type": "execute_result"
    },
    {
     "data": {
      "image/png": "[encoded data removed]",
      "text/plain": [
       "<matplotlib.figure.Figure at 0x7fc3d1cafe50>"
      ]
     },
     "metadata": {},
     "output_type": "display_data"
    }
   ],
   "source": [
    "# 单个城市的货量\n",
    "goodscounts[goodscounts.city==320700]['count'].plot()"
   ]
  },
  {
   "cell_type": "code",
   "execution_count": 48,
   "metadata": {},
   "outputs": [
    {
     "data": {
      "image/png": "[encoded data removed]",
      "text/plain": [
       "<matplotlib.figure.Figure at 0x7fc3d1b81b10>"
      ]
     },
     "metadata": {},
     "output_type": "display_data"
    }
   ],
   "source": [
    "# 不同城市的货量\n",
    "for city_code in goodscounts.city.unique():\n",
    "    goodscounts[goodscounts.city==city_code]['count'].plot()"
   ]
  },
  {
   "cell_type": "markdown",
   "metadata": {},
   "source": [
    "### 1.6 司机电话日志"
   ]
  },
  {
   "cell_type": "code",
   "execution_count": 49,
   "metadata": {},
   "outputs": [
    {
     "data": {
      "text/plain": [
       "(5351681, 4)"
      ]
     },
     "execution_count": 49,
     "metadata": {},
     "output_type": "execute_result"
    }
   ],
   "source": [
    "driver_call_logs.shape"
   ]
  },
  {
   "cell_type": "code",
   "execution_count": 50,
   "metadata": {},
   "outputs": [
    {
     "data": {
      "text/html": [
       "<div>\n",
       "<style>\n",
       "    .dataframe thead tr:only-child th {\n",
       "        text-align: right;\n",
       "    }\n",
       "\n",
       "    .dataframe thead th {\n",
       "        text-align: left;\n",
       "    }\n",
       "\n",
       "    .dataframe tbody tr th {\n",
       "        vertical-align: top;\n",
       "    }\n",
       "</style>\n",
       "<table border=\"1\" class=\"dataframe\">\n",
       "  <thead>\n",
       "    <tr style=\"text-align: right;\">\n",
       "      <th></th>\n",
       "      <th>city</th>\n",
       "      <th>day</th>\n",
       "      <th>user_id</th>\n",
       "      <th>id</th>\n",
       "    </tr>\n",
       "  </thead>\n",
       "  <tbody>\n",
       "    <tr>\n",
       "      <th>0</th>\n",
       "      <td>320700</td>\n",
       "      <td>20180316</td>\n",
       "      <td>23429835901096698</td>\n",
       "      <td>376169218</td>\n",
       "    </tr>\n",
       "    <tr>\n",
       "      <th>1</th>\n",
       "      <td>320700</td>\n",
       "      <td>20180228</td>\n",
       "      <td>96436391333622425</td>\n",
       "      <td>367207192</td>\n",
       "    </tr>\n",
       "    <tr>\n",
       "      <th>2</th>\n",
       "      <td>320700</td>\n",
       "      <td>20180228</td>\n",
       "      <td>96315273736851793</td>\n",
       "      <td>367207192</td>\n",
       "    </tr>\n",
       "    <tr>\n",
       "      <th>3</th>\n",
       "      <td>320700</td>\n",
       "      <td>20180228</td>\n",
       "      <td>600608457530817539</td>\n",
       "      <td>366767097</td>\n",
       "    </tr>\n",
       "    <tr>\n",
       "      <th>4</th>\n",
       "      <td>320700</td>\n",
       "      <td>20180228</td>\n",
       "      <td>96436390483266858</td>\n",
       "      <td>367143564</td>\n",
       "    </tr>\n",
       "  </tbody>\n",
       "</table>\n",
       "</div>"
      ],
      "text/plain": [
       "     city       day             user_id         id\n",
       "0  320700  20180316   23429835901096698  376169218\n",
       "1  320700  20180228   96436391333622425  367207192\n",
       "2  320700  20180228   96315273736851793  367207192\n",
       "3  320700  20180228  600608457530817539  366767097\n",
       "4  320700  20180228   96436390483266858  367143564"
      ]
     },
     "execution_count": 50,
     "metadata": {},
     "output_type": "execute_result"
    }
   ],
   "source": [
    "driver_call_logs.head(5)"
   ]
  },
  {
   "cell_type": "code",
   "execution_count": 53,
   "metadata": {},
   "outputs": [
    {
     "name": "stdout",
     "output_type": "stream",
     "text": [
      "the number of city:  13\n",
      "the number of day:  150\n",
      "the number of driver_id:  444808\n"
     ]
    }
   ],
   "source": [
    "print \"the number of city: \", driver_call_logs.city.unique().shape[0]\n",
    "print \"the number of day: \", driver_call_logs.day.unique().shape[0]\n",
    "print \"the number of driver_id: \", driver_call_logs.user_id.unique().shape[0]"
   ]
  },
  {
   "cell_type": "code",
   "execution_count": 58,
   "metadata": {},
   "outputs": [
    {
     "name": "stdout",
     "output_type": "stream",
     "text": [
      "打电话频率最高的10个id\n",
      "96436391096797856     553\n",
      "96436391768425670     494\n",
      "23429835901324282     474\n",
      "600608457467290666    467\n",
      "96436391874743102     439\n",
      "23651742485631314     437\n",
      "600608457463081445    431\n",
      "96436390882828428     416\n",
      "96268191751291633     413\n",
      "96436391111299310     410\n",
      "Name: user_id, dtype: int64\n"
     ]
    }
   ],
   "source": [
    "print \"打电话频率最高的10个id\"\n",
    "print driver_call_logs.user_id.value_counts()[:10]"
   ]
  },
  {
   "cell_type": "markdown",
   "metadata": {},
   "source": [
    "### 1.7 司机量表"
   ]
  },
  {
   "cell_type": "code",
   "execution_count": 59,
   "metadata": {},
   "outputs": [
    {
     "data": {
      "text/plain": [
       "(1899, 3)"
      ]
     },
     "execution_count": 59,
     "metadata": {},
     "output_type": "execute_result"
    }
   ],
   "source": [
    "driver_counts.shape"
   ]
  },
  {
   "cell_type": "code",
   "execution_count": 62,
   "metadata": {},
   "outputs": [
    {
     "name": "stdout",
     "output_type": "stream",
     "text": [
      "<class 'pandas.core.frame.DataFrame'>\n",
      "RangeIndex: 1899 entries, 0 to 1898\n",
      "Data columns (total 3 columns):\n",
      "city                 1899 non-null int64\n",
      "day                  1899 non-null int64\n",
      "driver_call_count    1899 non-null int64\n",
      "dtypes: int64(3)\n",
      "memory usage: 44.6 KB\n"
     ]
    }
   ],
   "source": [
    "driver_counts.info()"
   ]
  },
  {
   "cell_type": "code",
   "execution_count": 61,
   "metadata": {},
   "outputs": [
    {
     "name": "stdout",
     "output_type": "stream",
     "text": [
      "the number of city:  13\n",
      "the number of day:  150\n"
     ]
    }
   ],
   "source": [
    "print \"the number of city: \", driver_counts.city.unique().shape[0]\n",
    "print \"the number of day: \", driver_counts.day.unique().shape[0]"
   ]
  },
  {
   "cell_type": "code",
   "execution_count": 60,
   "metadata": {},
   "outputs": [
    {
     "data": {
      "text/html": [
       "<div>\n",
       "<style>\n",
       "    .dataframe thead tr:only-child th {\n",
       "        text-align: right;\n",
       "    }\n",
       "\n",
       "    .dataframe thead th {\n",
       "        text-align: left;\n",
       "    }\n",
       "\n",
       "    .dataframe tbody tr th {\n",
       "        vertical-align: top;\n",
       "    }\n",
       "</style>\n",
       "<table border=\"1\" class=\"dataframe\">\n",
       "  <thead>\n",
       "    <tr style=\"text-align: right;\">\n",
       "      <th></th>\n",
       "      <th>city</th>\n",
       "      <th>day</th>\n",
       "      <th>driver_call_count</th>\n",
       "    </tr>\n",
       "  </thead>\n",
       "  <tbody>\n",
       "    <tr>\n",
       "      <th>0</th>\n",
       "      <td>320700</td>\n",
       "      <td>20180101</td>\n",
       "      <td>438</td>\n",
       "    </tr>\n",
       "    <tr>\n",
       "      <th>1</th>\n",
       "      <td>320700</td>\n",
       "      <td>20180102</td>\n",
       "      <td>1120</td>\n",
       "    </tr>\n",
       "    <tr>\n",
       "      <th>2</th>\n",
       "      <td>320700</td>\n",
       "      <td>20180103</td>\n",
       "      <td>1100</td>\n",
       "    </tr>\n",
       "    <tr>\n",
       "      <th>3</th>\n",
       "      <td>320700</td>\n",
       "      <td>20180104</td>\n",
       "      <td>564</td>\n",
       "    </tr>\n",
       "    <tr>\n",
       "      <th>4</th>\n",
       "      <td>320700</td>\n",
       "      <td>20180105</td>\n",
       "      <td>669</td>\n",
       "    </tr>\n",
       "  </tbody>\n",
       "</table>\n",
       "</div>"
      ],
      "text/plain": [
       "     city       day  driver_call_count\n",
       "0  320700  20180101                438\n",
       "1  320700  20180102               1120\n",
       "2  320700  20180103               1100\n",
       "3  320700  20180104                564\n",
       "4  320700  20180105                669"
      ]
     },
     "execution_count": 60,
     "metadata": {},
     "output_type": "execute_result"
    }
   ],
   "source": [
    "driver_counts.head(5)"
   ]
  },
  {
   "cell_type": "markdown",
   "metadata": {
    "collapsed": true
   },
   "source": [
    "## 预测数据\n",
    "这个预测数据只有weather是有用的，题目所用的提交样式在https://github.com/Kesci/nanjing_AI_competition_2018/blob/master/files/02_submission_template.csv"
   ]
  },
  {
   "cell_type": "code",
   "execution_count": 63,
   "metadata": {
    "collapsed": true
   },
   "outputs": [],
   "source": [
    "predict = pd.read_csv(predict_dir_path + 'predict.csv', header=None)\n",
    "weather = pd.read_csv(predict_dir_path + '天气数据.csv', encoding='gbk')\n",
    "predict_sample = pd.read_csv(predict_dir_path + 'predict_sample.csv', header=None)"
   ]
  },
  {
   "cell_type": "code",
   "execution_count": 70,
   "metadata": {},
   "outputs": [
    {
     "data": {
      "text/html": [
       "<div>\n",
       "<style>\n",
       "    .dataframe thead tr:only-child th {\n",
       "        text-align: right;\n",
       "    }\n",
       "\n",
       "    .dataframe thead th {\n",
       "        text-align: left;\n",
       "    }\n",
       "\n",
       "    .dataframe tbody tr th {\n",
       "        vertical-align: top;\n",
       "    }\n",
       "</style>\n",
       "<table border=\"1\" class=\"dataframe\">\n",
       "  <thead>\n",
       "    <tr style=\"text-align: right;\">\n",
       "      <th></th>\n",
       "      <th>name</th>\n",
       "      <th>code</th>\n",
       "      <th>date</th>\n",
       "      <th>weather</th>\n",
       "      <th>temperature</th>\n",
       "      <th>wind</th>\n",
       "    </tr>\n",
       "  </thead>\n",
       "  <tbody>\n",
       "    <tr>\n",
       "      <th>0</th>\n",
       "      <td>宝应</td>\n",
       "      <td>321023</td>\n",
       "      <td>2018/6/1</td>\n",
       "      <td>晴/晴</td>\n",
       "      <td>29/17</td>\n",
       "      <td>东风3级/东风3级</td>\n",
       "    </tr>\n",
       "    <tr>\n",
       "      <th>1</th>\n",
       "      <td>宝应</td>\n",
       "      <td>321023</td>\n",
       "      <td>2018/6/2</td>\n",
       "      <td>多云/多云</td>\n",
       "      <td>29/16</td>\n",
       "      <td>东风3级/东风3级</td>\n",
       "    </tr>\n",
       "    <tr>\n",
       "      <th>2</th>\n",
       "      <td>宝应</td>\n",
       "      <td>321023</td>\n",
       "      <td>2018/6/3</td>\n",
       "      <td>多云/多云</td>\n",
       "      <td>29/19</td>\n",
       "      <td>东风3级/东风3级</td>\n",
       "    </tr>\n",
       "    <tr>\n",
       "      <th>3</th>\n",
       "      <td>宝应</td>\n",
       "      <td>321023</td>\n",
       "      <td>2018/6/4</td>\n",
       "      <td>阴/多云</td>\n",
       "      <td>29/21</td>\n",
       "      <td>东北风12级/东北风12级</td>\n",
       "    </tr>\n",
       "    <tr>\n",
       "      <th>4</th>\n",
       "      <td>宝应</td>\n",
       "      <td>321023</td>\n",
       "      <td>2018/6/5</td>\n",
       "      <td>多云/晴</td>\n",
       "      <td>32/21</td>\n",
       "      <td>西南风12级/西南风12级</td>\n",
       "    </tr>\n",
       "  </tbody>\n",
       "</table>\n",
       "</div>"
      ],
      "text/plain": [
       "  name    code      date weather temperature           wind\n",
       "0   宝应  321023  2018/6/1     晴/晴       29/17      东风3级/东风3级\n",
       "1   宝应  321023  2018/6/2   多云/多云       29/16      东风3级/东风3级\n",
       "2   宝应  321023  2018/6/3   多云/多云       29/19      东风3级/东风3级\n",
       "3   宝应  321023  2018/6/4    阴/多云       29/21  东北风12级/东北风12级\n",
       "4   宝应  321023  2018/6/5    多云/晴       32/21  西南风12级/西南风12级"
      ]
     },
     "execution_count": 70,
     "metadata": {},
     "output_type": "execute_result"
    }
   ],
   "source": [
    "weather.head(5)"
   ]
  },
  {
   "cell_type": "code",
   "execution_count": 68,
   "metadata": {},
   "outputs": [
    {
     "data": {
      "text/plain": [
       "(462, 6)"
      ]
     },
     "execution_count": 68,
     "metadata": {},
     "output_type": "execute_result"
    }
   ],
   "source": [
    "weather.shape"
   ]
  },
  {
   "cell_type": "code",
   "execution_count": 69,
   "metadata": {},
   "outputs": [
    {
     "data": {
      "text/plain": [
       "array([u'2018/6/1', u'2018/6/2', u'2018/6/3', u'2018/6/4', u'2018/6/5',\n",
       "       u'2018/6/6', u'2018/6/7'], dtype=object)"
      ]
     },
     "execution_count": 69,
     "metadata": {},
     "output_type": "execute_result"
    }
   ],
   "source": [
    "weather.date.unique()"
   ]
  },
  {
   "cell_type": "code",
   "execution_count": 62,
   "metadata": {},
   "outputs": [
    {
     "data": {
      "text/plain": [
       "(20,)"
      ]
     },
     "execution_count": 62,
     "metadata": {},
     "output_type": "execute_result"
    }
   ],
   "source": [
    "print \"the number of weather: \", weather.weather.unique().shape\n",
    "print \"the number of wind: \", weather.wind.unique().shape"
   ]
  }
 ],
 "metadata": {
  "kernelspec": {
   "display_name": "Python 2",
   "language": "python",
   "name": "python2"
  },
  "language_info": {
   "codemirror_mode": {
    "name": "ipython",
    "version": 2
   },
   "file_extension": ".py",
   "mimetype": "text/x-python",
   "name": "python",
   "nbconvert_exporter": "python",
   "pygments_lexer": "ipython2",
   "version": "2.7.13"
  }
 },
 "nbformat": 4,
 "nbformat_minor": 2
}
